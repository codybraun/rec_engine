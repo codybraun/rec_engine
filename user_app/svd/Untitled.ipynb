{
 "cells": [
  {
   "cell_type": "code",
   "execution_count": 114,
   "metadata": {
    "collapsed": false
   },
   "outputs": [],
   "source": [
    "import psycopg2\n",
    "import os \n",
    "import numpy as np\n",
    "\n",
    "pw = os.getenv(\"PSQLPW\")\n",
    "conn = psycopg2.connect(\"host=localhost dbname=game_recs user=jcbraun password=\"+pw)\n",
    "\n",
    "c = conn.cursor()\n",
    "c.execute('SELECT id FROM recs_player')\n",
    "users = []\n",
    "for row in c.fetchall():\n",
    "  users.append(row[0])\n",
    "c.execute('SELECT game_id, name FROM recs_game')\n",
    "games = []\n",
    "named_games = []\n",
    "for row in c.fetchall():\n",
    "  games.append(row[0])\n",
    "  named_games.append(row[1])\n",
    "c.execute('SELECT play_time, game_id, player_id FROM recs_activity')\n",
    "matrix = [[0] * len(users) for game in games]\n",
    "\n",
    "for row in c.fetchall():\n",
    "  matrix[games.index(row[1])][users.index(row[2])] = row[0]"
   ]
  },
  {
   "cell_type": "code",
   "execution_count": 97,
   "metadata": {
    "collapsed": false
   },
   "outputs": [],
   "source": [
    "u,s,v=np.linalg.svd(matrix, full_matrices=False)\n"
   ]
  },
  {
   "cell_type": "code",
   "execution_count": 113,
   "metadata": {
    "collapsed": false
   },
   "outputs": [],
   "source": [
    "def rank_one_mod(user_vector, game_vector, matrix):\n",
    "  #m = U'a\n",
    "  m = np.dot(u.transpose(), a)\n",
    "  #pVec = a - Um\n",
    "  p_vec = np.subtract(a, np.multiply(U, m))\n",
    "  #p = sqrt(p'p)\n",
    "  p = sqrt(np.multiply(pVec, pVec));\n",
    "  #P = pVec/p\n",
    "  P = np.divide(p_vec, p)\n",
    "  #n = V'b\n",
    "  n = np.multiply(Vt, b)\n",
    "  #qVec = b - Vn\n",
    "  q_vec = np.subtract(b, np.multiply(v, n))\n",
    "  #q = sqrt(p'p)\n",
    "  q = sqrt(np.multiply(qVec, qVec))\n",
    "  #Q = qVec/q\n",
    "  Q = np.divide(qVec, q)\n",
    "  rhs = np.multiply(np.appendToVector(m, p), np.appendToVector(n, q))\n",
    "  expanded_matrix = [[0] + row for row in matrix] + [[0] * len(matrix[0])]\n",
    "  rhs = np.add(expanded_matrix, rhs);\n",
    "  u,s,v=np.linalg.svd(expanded_matrix, full_matrices=False)"
   ]
  },
  {
   "cell_type": "code",
   "execution_count": 102,
   "metadata": {
    "collapsed": false
   },
   "outputs": [],
   "source": [
    "conn.rollback()"
   ]
  },
  {
   "cell_type": "code",
   "execution_count": 107,
   "metadata": {
    "collapsed": false
   },
   "outputs": [
    {
     "ename": "KeyboardInterrupt",
     "evalue": "",
     "output_type": "error",
     "traceback": [
      "\u001b[1;31m---------------------------------------------------------------------------\u001b[0m",
      "\u001b[1;31mKeyboardInterrupt\u001b[0m                         Traceback (most recent call last)",
      "\u001b[1;32m<ipython-input-107-3b1674fb766d>\u001b[0m in \u001b[0;36m<module>\u001b[1;34m()\u001b[0m\n\u001b[0;32m      7\u001b[0m         \u001b[0mc\u001b[0m\u001b[1;33m.\u001b[0m\u001b[0mexecute\u001b[0m\u001b[1;33m(\u001b[0m\u001b[1;34m\"INSERT INTO recs_rec (player_id, game_id, score) VALUES ('{0}', '{1}', '{2}')\"\u001b[0m\u001b[1;33m.\u001b[0m\u001b[0mformat\u001b[0m\u001b[1;33m(\u001b[0m\u001b[0musers\u001b[0m\u001b[1;33m[\u001b[0m\u001b[0mi\u001b[0m\u001b[1;33m]\u001b[0m\u001b[1;33m,\u001b[0m \u001b[0mgames\u001b[0m\u001b[1;33m[\u001b[0m\u001b[0mj\u001b[0m\u001b[1;33m]\u001b[0m\u001b[1;33m,\u001b[0m \u001b[0mpropensity\u001b[0m\u001b[1;33m)\u001b[0m\u001b[1;33m)\u001b[0m\u001b[1;33m\u001b[0m\u001b[0m\n\u001b[0;32m      8\u001b[0m         \u001b[0mrec_matrix\u001b[0m\u001b[1;33m[\u001b[0m\u001b[0mi\u001b[0m\u001b[1;33m]\u001b[0m\u001b[1;33m[\u001b[0m\u001b[0mj\u001b[0m\u001b[1;33m]\u001b[0m\u001b[1;33m=\u001b[0m \u001b[0mpropensity\u001b[0m\u001b[1;33m\u001b[0m\u001b[0m\n\u001b[1;32m----> 9\u001b[1;33m         \u001b[0mconn\u001b[0m\u001b[1;33m.\u001b[0m\u001b[0mcommit\u001b[0m\u001b[1;33m(\u001b[0m\u001b[1;33m)\u001b[0m\u001b[1;33m\u001b[0m\u001b[0m\n\u001b[0m",
      "\u001b[1;31mKeyboardInterrupt\u001b[0m: "
     ]
    }
   ],
   "source": [
    "def commit_recs():\n",
    "    rec_matrix = [[0] * len(games) for user in users]\n",
    "    for i in range(len(users)):\n",
    "        for j in range(len(games)):\n",
    "            propensity = np.dot(z[i], x[j])\n",
    "            conn = psycopg2.connect(\"host=localhost dbname=game_recs user=jcbraun password=\"+pw)\n",
    "            c = conn.cursor()\n",
    "            c.execute(\"INSERT INTO recs_rec (player_id, game_id, score) VALUES ('{0}', '{1}', '{2}')\".format(users[i], games[j], propensity))\n",
    "            rec_matrix[i][j]= propensity\n",
    "            conn.commit()"
   ]
  },
  {
   "cell_type": "code",
   "execution_count": null,
   "metadata": {
    "collapsed": true
   },
   "outputs": [],
   "source": []
  }
 ],
 "metadata": {
  "kernelspec": {
   "display_name": "Python 2",
   "language": "python",
   "name": "python2"
  },
  "language_info": {
   "codemirror_mode": {
    "name": "ipython",
    "version": 2
   },
   "file_extension": ".py",
   "mimetype": "text/x-python",
   "name": "python",
   "nbconvert_exporter": "python",
   "pygments_lexer": "ipython2",
   "version": "2.7.12"
  }
 },
 "nbformat": 4,
 "nbformat_minor": 0
}
